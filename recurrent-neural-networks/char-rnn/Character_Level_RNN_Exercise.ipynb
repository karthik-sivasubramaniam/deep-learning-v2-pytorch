{
  "nbformat": 4,
  "nbformat_minor": 0,
  "metadata": {
    "kernelspec": {
      "name": "python3",
      "display_name": "Python 3"
    },
    "language_info": {
      "codemirror_mode": {
        "name": "ipython",
        "version": 3
      },
      "file_extension": ".py",
      "mimetype": "text/x-python",
      "name": "python",
      "nbconvert_exporter": "python",
      "pygments_lexer": "ipython3",
      "version": "3.6.4"
    },
    "colab": {
      "name": "Character_Level_RNN_Exercise.ipynb",
      "provenance": []
    },
    "accelerator": "GPU"
  },
  "cells": [
    {
      "cell_type": "markdown",
      "metadata": {
        "id": "b1A2eTrQxadS",
        "colab_type": "text"
      },
      "source": [
        "# Character-Level LSTM in PyTorch\n",
        "\n",
        "In this notebook, I'll construct a character-level LSTM with PyTorch. The network will train character by character on some text, then generate new text character by character. As an example, I will train on Anna Karenina. **This model will be able to generate new text based on the text from the book!**\n",
        "\n",
        "This network is based off of Andrej Karpathy's [post on RNNs](http://karpathy.github.io/2015/05/21/rnn-effectiveness/) and [implementation in Torch](https://github.com/karpathy/char-rnn). Below is the general architecture of the character-wise RNN.\n",
        "\n",
        "<img src=\"https://github.com/karthik-sivasubramaniam/deep-learning-v2-pytorch/blob/master/recurrent-neural-networks/char-rnn/assets/charseq.jpeg?raw=1\" width=\"500\">"
      ]
    },
    {
      "cell_type": "markdown",
      "metadata": {
        "id": "gvlXtBKCxadY",
        "colab_type": "text"
      },
      "source": [
        "First let's load in our required resources for data loading and model creation."
      ]
    },
    {
      "cell_type": "code",
      "metadata": {
        "id": "tBm6ven1xadc",
        "colab_type": "code",
        "colab": {}
      },
      "source": [
        "import numpy as np\n",
        "import torch\n",
        "from torch import nn\n",
        "import torch.nn.functional as F"
      ],
      "execution_count": 0,
      "outputs": []
    },
    {
      "cell_type": "markdown",
      "metadata": {
        "id": "4HR-DQFLxadl",
        "colab_type": "text"
      },
      "source": [
        "## Load in Data\n",
        "\n",
        "Then, we'll load the Anna Karenina text file and convert it into integers for our network to use. "
      ]
    },
    {
      "cell_type": "code",
      "metadata": {
        "id": "WziRndtPxadn",
        "colab_type": "code",
        "colab": {}
      },
      "source": [
        "# open text file and read in data as `text`\n",
        "with open('anna.txt', 'r') as f:\n",
        "    text = f.read()"
      ],
      "execution_count": 0,
      "outputs": []
    },
    {
      "cell_type": "markdown",
      "metadata": {
        "id": "4tJqPWzlxadv",
        "colab_type": "text"
      },
      "source": [
        "Let's check out the first 100 characters, make sure everything is peachy. According to the [American Book Review](http://americanbookreview.org/100bestlines.asp), this is the 6th best first line of a book ever."
      ]
    },
    {
      "cell_type": "code",
      "metadata": {
        "id": "2e696iOaxadx",
        "colab_type": "code",
        "colab": {
          "base_uri": "https://localhost:8080/",
          "height": 34
        },
        "outputId": "203a1338-d331-4ce4-d8da-14443f882b3f"
      },
      "source": [
        "text[:100]"
      ],
      "execution_count": 3,
      "outputs": [
        {
          "output_type": "execute_result",
          "data": {
            "text/plain": [
              "'Chapter 1\\n\\n\\nHappy families are all alike; every unhappy family is unhappy in its own\\nway.\\n\\nEverythin'"
            ]
          },
          "metadata": {
            "tags": []
          },
          "execution_count": 3
        }
      ]
    },
    {
      "cell_type": "markdown",
      "metadata": {
        "id": "S6eg-18jxad4",
        "colab_type": "text"
      },
      "source": [
        "### Tokenization\n",
        "\n",
        "In the cells, below, I'm creating a couple **dictionaries** to convert the characters to and from integers. Encoding the characters as integers makes it easier to use as input in the network."
      ]
    },
    {
      "cell_type": "code",
      "metadata": {
        "id": "Mjva6f34xad7",
        "colab_type": "code",
        "colab": {}
      },
      "source": [
        "# encode the text and map each character to an integer and vice versa\n",
        "\n",
        "# we create two dictionaries:\n",
        "# 1. int2char, which maps integers to characters\n",
        "# 2. char2int, which maps characters to unique integers\n",
        "chars = tuple(set(text))\n",
        "int2char = dict(enumerate(chars))\n",
        "char2int = {ch: ii for ii, ch in int2char.items()}\n",
        "\n",
        "# encode the text\n",
        "encoded = np.array([char2int[ch] for ch in text])"
      ],
      "execution_count": 0,
      "outputs": []
    },
    {
      "cell_type": "markdown",
      "metadata": {
        "id": "fP1Nl2MrxaeC",
        "colab_type": "text"
      },
      "source": [
        "And we can see those same characters from above, encoded as integers."
      ]
    },
    {
      "cell_type": "code",
      "metadata": {
        "id": "UcbNJ21exaeF",
        "colab_type": "code",
        "colab": {
          "base_uri": "https://localhost:8080/",
          "height": 118
        },
        "outputId": "082f8caa-ff8e-4313-dcae-8ba90d6e9d59"
      },
      "source": [
        "encoded[:100]"
      ],
      "execution_count": 5,
      "outputs": [
        {
          "output_type": "execute_result",
          "data": {
            "text/plain": [
              "array([ 0, 71, 49, 30, 56, 20,  9, 25, 33, 26, 26, 26, 54, 49, 30, 30, 64,\n",
              "       25, 52, 49, 68, 48,  3, 48, 20, 47, 25, 49,  9, 20, 25, 49,  3,  3,\n",
              "       25, 49,  3, 48, 44, 20,  1, 25, 20, 12, 20,  9, 64, 25, 72, 66, 71,\n",
              "       49, 30, 30, 64, 25, 52, 49, 68, 48,  3, 64, 25, 48, 47, 25, 72, 66,\n",
              "       71, 49, 30, 30, 64, 25, 48, 66, 25, 48, 56, 47, 25, 81, 73, 66, 26,\n",
              "       73, 49, 64, 76, 26, 26, 38, 12, 20,  9, 64, 56, 71, 48, 66])"
            ]
          },
          "metadata": {
            "tags": []
          },
          "execution_count": 5
        }
      ]
    },
    {
      "cell_type": "markdown",
      "metadata": {
        "id": "Xti9zgY_xaeN",
        "colab_type": "text"
      },
      "source": [
        "## Pre-processing the data\n",
        "\n",
        "As you can see in our char-RNN image above, our LSTM expects an input that is **one-hot encoded** meaning that each character is converted into an integer (via our created dictionary) and *then* converted into a column vector where only it's corresponding integer index will have the value of 1 and the rest of the vector will be filled with 0's. Since we're one-hot encoding the data, let's make a function to do that!\n"
      ]
    },
    {
      "cell_type": "code",
      "metadata": {
        "id": "9gWoCvhUxaeP",
        "colab_type": "code",
        "colab": {}
      },
      "source": [
        "def one_hot_encode(arr, n_labels):\n",
        "    \n",
        "    # Initialize the the encoded array\n",
        "    one_hot = np.zeros((arr.size, n_labels), dtype=np.float32)\n",
        "    \n",
        "    # Fill the appropriate elements with ones\n",
        "    one_hot[np.arange(one_hot.shape[0]), arr.flatten()] = 1.\n",
        "    \n",
        "    # Finally reshape it to get back to the original array\n",
        "    one_hot = one_hot.reshape((*arr.shape, n_labels))\n",
        "    \n",
        "    return one_hot"
      ],
      "execution_count": 0,
      "outputs": []
    },
    {
      "cell_type": "code",
      "metadata": {
        "id": "eCIRoobvxaeW",
        "colab_type": "code",
        "colab": {
          "base_uri": "https://localhost:8080/",
          "height": 67
        },
        "outputId": "d0ee36dc-4421-4331-91dc-463ffd5e5b88"
      },
      "source": [
        "# check that the function works as expected\n",
        "test_seq = np.array([[3, 5, 1]])\n",
        "one_hot = one_hot_encode(test_seq, 8)\n",
        "\n",
        "print(one_hot)"
      ],
      "execution_count": 7,
      "outputs": [
        {
          "output_type": "stream",
          "text": [
            "[[[0. 0. 0. 1. 0. 0. 0. 0.]\n",
            "  [0. 0. 0. 0. 0. 1. 0. 0.]\n",
            "  [0. 1. 0. 0. 0. 0. 0. 0.]]]\n"
          ],
          "name": "stdout"
        }
      ]
    },
    {
      "cell_type": "markdown",
      "metadata": {
        "id": "0Fd252Lixaee",
        "colab_type": "text"
      },
      "source": [
        "## Making training mini-batches\n",
        "\n",
        "\n",
        "To train on this data, we also want to create mini-batches for training. Remember that we want our batches to be multiple sequences of some desired number of sequence steps. Considering a simple example, our batches would look like this:\n",
        "\n",
        "<img src=\"https://github.com/karthik-sivasubramaniam/deep-learning-v2-pytorch/blob/master/recurrent-neural-networks/char-rnn/assets/sequence_batching@1x.png?raw=1\" width=500px>\n",
        "\n",
        "\n",
        "<br>\n",
        "\n",
        "In this example, we'll take the encoded characters (passed in as the `arr` parameter) and split them into multiple sequences, given by `batch_size`. Each of our sequences will be `seq_length` long.\n",
        "\n",
        "### Creating Batches\n",
        "\n",
        "**1. The first thing we need to do is discard some of the text so we only have completely full mini-batches. **\n",
        "\n",
        "Each batch contains $N \\times M$ characters, where $N$ is the batch size (the number of sequences in a batch) and $M$ is the seq_length or number of time steps in a sequence. Then, to get the total number of batches, $K$, that we can make from the array `arr`, you divide the length of `arr` by the number of characters per batch. Once you know the number of batches, you can get the total number of characters to keep from `arr`, $N * M * K$.\n",
        "\n",
        "**2. After that, we need to split `arr` into $N$ batches. ** \n",
        "\n",
        "You can do this using `arr.reshape(size)` where `size` is a tuple containing the dimensions sizes of the reshaped array. We know we want $N$ sequences in a batch, so let's make that the size of the first dimension. For the second dimension, you can use `-1` as a placeholder in the size, it'll fill up the array with the appropriate data for you. After this, you should have an array that is $N \\times (M * K)$.\n",
        "\n",
        "**3. Now that we have this array, we can iterate through it to get our mini-batches. **\n",
        "\n",
        "The idea is each batch is a $N \\times M$ window on the $N \\times (M * K)$ array. For each subsequent batch, the window moves over by `seq_length`. We also want to create both the input and target arrays. Remember that the targets are just the inputs shifted over by one character. The way I like to do this window is use `range` to take steps of size `n_steps` from $0$ to `arr.shape[1]`, the total number of tokens in each sequence. That way, the integers you get from `range` always point to the start of a batch, and each window is `seq_length` wide.\n",
        "\n",
        "> **TODO:** Write the code for creating batches in the function below. The exercises in this notebook _will not be easy_. I've provided a notebook with solutions alongside this notebook. If you get stuck, checkout the solutions. The most important thing is that you don't copy and paste the code into here, **type out the solution code yourself.**"
      ]
    },
    {
      "cell_type": "code",
      "metadata": {
        "id": "xwadI0Cixaeg",
        "colab_type": "code",
        "colab": {}
      },
      "source": [
        "def get_batches(arr, batch_size, seq_length):\n",
        "    '''Create a generator that returns batches of size\n",
        "       batch_size x seq_length from arr.\n",
        "       \n",
        "       Arguments\n",
        "       ---------\n",
        "       arr: Array you want to make batches from\n",
        "       batch_size: Batch size, the number of sequences per batch\n",
        "       seq_length: Number of encoded chars in a sequence\n",
        "    '''\n",
        "    \n",
        "    ## TODO: Get the number of batches we can make\n",
        "    n_batches = len(arr) // (batch_size * seq_length)\n",
        "    \n",
        "    ## TODO: Keep only enough characters to make full batches\n",
        "    arr = arr[:(n_batches * batch_size * seq_length)]\n",
        "    \n",
        "    ## TODO: Reshape into batch_size rows\n",
        "    arr = arr.reshape((batch_size, -1))\n",
        "    \n",
        "    ## TODO: Iterate over the batches using a window of size seq_length\n",
        "    for n in range(0, arr.shape[1], seq_length):\n",
        "        # The features\n",
        "        x = arr[:, n:(n + seq_length)]\n",
        "        # The targets, shifted by one\n",
        "        y = np.zeros_like(x)\n",
        "        try:\n",
        "            y[:, :-1], y[:, -1] = x[:, 1:], x[:, n + seq_length]\n",
        "        except IndexError:\n",
        "            y[:, :-1], y[:, -1] = x[:, 1:], arr[:, 0]\n",
        "        yield x, y"
      ],
      "execution_count": 0,
      "outputs": []
    },
    {
      "cell_type": "markdown",
      "metadata": {
        "id": "k1NjNiMaxaen",
        "colab_type": "text"
      },
      "source": [
        "### Test Your Implementation\n",
        "\n",
        "Now I'll make some data sets and we can check out what's going on as we batch data. Here, as an example, I'm going to use a batch size of 8 and 50 sequence steps."
      ]
    },
    {
      "cell_type": "code",
      "metadata": {
        "id": "wNcPxGFGxaeo",
        "colab_type": "code",
        "colab": {}
      },
      "source": [
        "batches = get_batches(encoded, 8, 50)\n",
        "x, y = next(batches)"
      ],
      "execution_count": 0,
      "outputs": []
    },
    {
      "cell_type": "code",
      "metadata": {
        "id": "K6Bw7sgHxaev",
        "colab_type": "code",
        "colab": {
          "base_uri": "https://localhost:8080/",
          "height": 336
        },
        "outputId": "14d01025-f2fb-441c-b798-8659291b45f7"
      },
      "source": [
        "# printing out the first 10 items in a sequence\n",
        "print('x\\n', x[:10, :10])\n",
        "print('\\ny\\n', y[:10, :10])"
      ],
      "execution_count": 10,
      "outputs": [
        {
          "output_type": "stream",
          "text": [
            "x\n",
            " [[ 0 71 49 30 56 20  9 25 33 26]\n",
            " [47 81 66 25 56 71 49 56 25 49]\n",
            " [20 66 50 25 81  9 25 49 25 52]\n",
            " [47 25 56 71 20 25 22 71 48 20]\n",
            " [25 47 49 73 25 71 20  9 25 56]\n",
            " [22 72 47 47 48 81 66 25 49 66]\n",
            " [25 59 66 66 49 25 71 49 50 25]\n",
            " [78 37  3 81 66 47 44 64 76 25]]\n",
            "\n",
            "y\n",
            " [[71 49 30 56 20  9 25 33 26 26]\n",
            " [81 66 25 56 71 49 56 25 49 56]\n",
            " [66 50 25 81  9 25 49 25 52 81]\n",
            " [25 56 71 20 25 22 71 48 20 52]\n",
            " [47 49 73 25 71 20  9 25 56 20]\n",
            " [72 47 47 48 81 66 25 49 66 50]\n",
            " [59 66 66 49 25 71 49 50 25 47]\n",
            " [37  3 81 66 47 44 64 76 25 21]]\n"
          ],
          "name": "stdout"
        }
      ]
    },
    {
      "cell_type": "markdown",
      "metadata": {
        "id": "-kS03rwMxae1",
        "colab_type": "text"
      },
      "source": [
        "If you implemented `get_batches` correctly, the above output should look something like \n",
        "```\n",
        "x\n",
        " [[25  8 60 11 45 27 28 73  1  2]\n",
        " [17  7 20 73 45  8 60 45 73 60]\n",
        " [27 20 80 73  7 28 73 60 73 65]\n",
        " [17 73 45  8 27 73 66  8 46 27]\n",
        " [73 17 60 12 73  8 27 28 73 45]\n",
        " [66 64 17 17 46  7 20 73 60 20]\n",
        " [73 76 20 20 60 73  8 60 80 73]\n",
        " [47 35 43  7 20 17 24 50 37 73]]\n",
        "\n",
        "y\n",
        " [[ 8 60 11 45 27 28 73  1  2  2]\n",
        " [ 7 20 73 45  8 60 45 73 60 45]\n",
        " [20 80 73  7 28 73 60 73 65  7]\n",
        " [73 45  8 27 73 66  8 46 27 65]\n",
        " [17 60 12 73  8 27 28 73 45 27]\n",
        " [64 17 17 46  7 20 73 60 20 80]\n",
        " [76 20 20 60 73  8 60 80 73 17]\n",
        " [35 43  7 20 17 24 50 37 73 36]]\n",
        " ```\n",
        " although the exact numbers may be different. Check to make sure the data is shifted over one step for `y`."
      ]
    },
    {
      "cell_type": "markdown",
      "metadata": {
        "id": "W7x9O9Inxae6",
        "colab_type": "text"
      },
      "source": [
        "---\n",
        "## Defining the network with PyTorch\n",
        "\n",
        "Below is where you'll define the network.\n",
        "\n",
        "<img src=\"https://github.com/karthik-sivasubramaniam/deep-learning-v2-pytorch/blob/master/recurrent-neural-networks/char-rnn/assets/charRNN.png?raw=1\" width=500px>\n",
        "\n",
        "Next, you'll use PyTorch to define the architecture of the network. We start by defining the layers and operations we want. Then, define a method for the forward pass. You've also been given a method for predicting characters."
      ]
    },
    {
      "cell_type": "markdown",
      "metadata": {
        "id": "L14F3BF_xae7",
        "colab_type": "text"
      },
      "source": [
        "### Model Structure\n",
        "\n",
        "In `__init__` the suggested structure is as follows:\n",
        "* Create and store the necessary dictionaries (this has been done for you)\n",
        "* Define an LSTM layer that takes as params: an input size (the number of characters), a hidden layer size `n_hidden`, a number of layers `n_layers`, a dropout probability `drop_prob`, and a batch_first boolean (True, since we are batching)\n",
        "* Define a dropout layer with `drop_prob`\n",
        "* Define a fully-connected layer with params: input size `n_hidden` and output size (the number of characters)\n",
        "* Finally, initialize the weights (again, this has been given)\n",
        "\n",
        "Note that some parameters have been named and given in the `__init__` function, and we use them and store them by doing something like `self.drop_prob = drop_prob`."
      ]
    },
    {
      "cell_type": "markdown",
      "metadata": {
        "id": "4QssARcSxae_",
        "colab_type": "text"
      },
      "source": [
        "---\n",
        "### LSTM Inputs/Outputs\n",
        "\n",
        "You can create a basic [LSTM layer](https://pytorch.org/docs/stable/nn.html#lstm) as follows\n",
        "\n",
        "```python\n",
        "self.lstm = nn.LSTM(input_size, n_hidden, n_layers, \n",
        "                            dropout=drop_prob, batch_first=True)\n",
        "```\n",
        "\n",
        "where `input_size` is the number of characters this cell expects to see as sequential input, and `n_hidden` is the number of units in the hidden layers in the cell. And we can add dropout by adding a dropout parameter with a specified probability; this will automatically add dropout to the inputs or outputs. Finally, in the `forward` function, we can stack up the LSTM cells into layers using `.view`. With this, you pass in a list of cells and it will send the output of one cell into the next cell.\n",
        "\n",
        "We also need to create an initial hidden state of all zeros. This is done like so\n",
        "\n",
        "```python\n",
        "self.init_hidden()\n",
        "```"
      ]
    },
    {
      "cell_type": "code",
      "metadata": {
        "id": "vvubmJDqxafB",
        "colab_type": "code",
        "colab": {
          "base_uri": "https://localhost:8080/",
          "height": 34
        },
        "outputId": "6f5ec747-6c11-4c5d-ea27-be549bb075ad"
      },
      "source": [
        "# check if GPU is available\n",
        "train_on_gpu = torch.cuda.is_available()\n",
        "if(train_on_gpu):\n",
        "    print('Training on GPU!')\n",
        "else: \n",
        "    print('No GPU available, training on CPU; consider making n_epochs very small.')"
      ],
      "execution_count": 11,
      "outputs": [
        {
          "output_type": "stream",
          "text": [
            "Training on GPU!\n"
          ],
          "name": "stdout"
        }
      ]
    },
    {
      "cell_type": "code",
      "metadata": {
        "id": "SSWDQzqaxafI",
        "colab_type": "code",
        "colab": {}
      },
      "source": [
        "class CharRNN(nn.Module):\n",
        "    \n",
        "    def __init__(self, tokens, n_hidden=256, n_layers=2,\n",
        "                               drop_prob=0.5, lr=0.001):\n",
        "        super().__init__()\n",
        "        self.drop_prob = drop_prob\n",
        "        self.n_layers = n_layers\n",
        "        self.n_hidden = n_hidden\n",
        "        self.lr = lr\n",
        "        \n",
        "        # creating character dictionaries\n",
        "        self.chars = tokens\n",
        "        self.int2char = dict(enumerate(self.chars))\n",
        "        self.char2int = {ch: ii for ii, ch in self.int2char.items()}\n",
        "        \n",
        "        ## TODO: define the layers of the model\n",
        "        self.lstm = nn.LSTM(len(tokens), n_hidden, n_layers, \n",
        "                            batch_first=True, dropout=self.drop_prob)\n",
        "        self.fc = nn.Linear(n_hidden, len(tokens))\n",
        "        self.dropout = nn.Dropout(p=self.drop_prob)\n",
        "    \n",
        "    def forward(self, x, hidden):\n",
        "        ''' Forward pass through the network. \n",
        "            These inputs are x, and the hidden/cell state `hidden`. '''\n",
        "                \n",
        "        ## TODO: Get the outputs and the new hidden state from the lstm\n",
        "        x, hidden = self.lstm(x, hidden)\n",
        "        x = self.dropout(x)\n",
        "        x = x.contiguous().view(-1, self.n_hidden)\n",
        "        out = self.fc(x)\n",
        "        # return the final output and the hidden state\n",
        "        return out, hidden\n",
        "    \n",
        "    \n",
        "    def init_hidden(self, batch_size):\n",
        "        ''' Initializes hidden state '''\n",
        "        # Create two new tensors with sizes n_layers x batch_size x n_hidden,\n",
        "        # initialized to zero, for hidden state and cell state of LSTM\n",
        "        weight = next(self.parameters()).data\n",
        "        \n",
        "        if (train_on_gpu):\n",
        "            hidden = (weight.new(self.n_layers, batch_size, self.n_hidden).zero_().cuda(),\n",
        "                  weight.new(self.n_layers, batch_size, self.n_hidden).zero_().cuda())\n",
        "        else:\n",
        "            hidden = (weight.new(self.n_layers, batch_size, self.n_hidden).zero_(),\n",
        "                      weight.new(self.n_layers, batch_size, self.n_hidden).zero_())\n",
        "        \n",
        "        return hidden\n",
        "        "
      ],
      "execution_count": 0,
      "outputs": []
    },
    {
      "cell_type": "markdown",
      "metadata": {
        "id": "C_unhoLixafP",
        "colab_type": "text"
      },
      "source": [
        "## Time to train\n",
        "\n",
        "The train function gives us the ability to set the number of epochs, the learning rate, and other parameters.\n",
        "\n",
        "Below we're using an Adam optimizer and cross entropy loss since we are looking at character class scores as output. We calculate the loss and perform backpropagation, as usual!\n",
        "\n",
        "A couple of details about training: \n",
        ">* Within the batch loop, we detach the hidden state from its history; this time setting it equal to a new *tuple* variable because an LSTM has a hidden state that is a tuple of the hidden and cell states.\n",
        "* We use [`clip_grad_norm_`](https://pytorch.org/docs/stable/_modules/torch/nn/utils/clip_grad.html) to help prevent exploding gradients."
      ]
    },
    {
      "cell_type": "code",
      "metadata": {
        "id": "GE15bu0exafQ",
        "colab_type": "code",
        "colab": {}
      },
      "source": [
        "def train(net, data, epochs=10, batch_size=10, seq_length=50, lr=0.001, clip=5, val_frac=0.1, print_every=10):\n",
        "    ''' Training a network \n",
        "    \n",
        "        Arguments\n",
        "        ---------\n",
        "        \n",
        "        net: CharRNN network\n",
        "        data: text data to train the network\n",
        "        epochs: Number of epochs to train\n",
        "        batch_size: Number of mini-sequences per mini-batch, aka batch size\n",
        "        seq_length: Number of character steps per mini-batch\n",
        "        lr: learning rate\n",
        "        clip: gradient clipping\n",
        "        val_frac: Fraction of data to hold out for validation\n",
        "        print_every: Number of steps for printing training and validation loss\n",
        "    \n",
        "    '''\n",
        "    net.train()\n",
        "    \n",
        "    opt = torch.optim.Adam(net.parameters(), lr=lr)\n",
        "    criterion = nn.CrossEntropyLoss()\n",
        "    \n",
        "    # create training and validation data\n",
        "    val_idx = int(len(data)*(1-val_frac))\n",
        "    data, val_data = data[:val_idx], data[val_idx:]\n",
        "    \n",
        "    if(train_on_gpu):\n",
        "        net.cuda()\n",
        "    \n",
        "    counter = 0\n",
        "    n_chars = len(net.chars)\n",
        "    for e in range(epochs):\n",
        "        # initialize hidden state\n",
        "        h = net.init_hidden(batch_size)\n",
        "        \n",
        "        for x, y in get_batches(data, batch_size, seq_length):\n",
        "            counter += 1\n",
        "            \n",
        "            # One-hot encode our data and make them Torch tensors\n",
        "            x = one_hot_encode(x, n_chars)\n",
        "            inputs, targets = torch.from_numpy(x), torch.from_numpy(y)\n",
        "            \n",
        "            if(train_on_gpu):\n",
        "                inputs, targets = inputs.cuda(), targets.cuda()\n",
        "\n",
        "            # Creating new variables for the hidden state, otherwise\n",
        "            # we'd backprop through the entire training history\n",
        "            h = tuple([each.data for each in h])\n",
        "\n",
        "            # zero accumulated gradients\n",
        "            net.zero_grad()\n",
        "            \n",
        "            # get the output from the model\n",
        "            output, h = net(inputs, h)\n",
        "            \n",
        "            # calculate the loss and perform backprop\n",
        "            loss = criterion(output, targets.view(batch_size*seq_length).long())\n",
        "            loss.backward()\n",
        "            # `clip_grad_norm` helps prevent the exploding gradient problem in RNNs / LSTMs.\n",
        "            nn.utils.clip_grad_norm_(net.parameters(), clip)\n",
        "            opt.step()\n",
        "            \n",
        "            # loss stats\n",
        "            if counter % print_every == 0:\n",
        "                # Get validation loss\n",
        "                val_h = net.init_hidden(batch_size)\n",
        "                val_losses = []\n",
        "                net.eval()\n",
        "                for x, y in get_batches(val_data, batch_size, seq_length):\n",
        "                    # One-hot encode our data and make them Torch tensors\n",
        "                    x = one_hot_encode(x, n_chars)\n",
        "                    x, y = torch.from_numpy(x), torch.from_numpy(y)\n",
        "                    \n",
        "                    # Creating new variables for the hidden state, otherwise\n",
        "                    # we'd backprop through the entire training history\n",
        "                    val_h = tuple([each.data for each in val_h])\n",
        "                    \n",
        "                    inputs, targets = x, y\n",
        "                    if(train_on_gpu):\n",
        "                        inputs, targets = inputs.cuda(), targets.cuda()\n",
        "\n",
        "                    output, val_h = net(inputs, val_h)\n",
        "                    val_loss = criterion(output, targets.view(batch_size*seq_length).long())\n",
        "                \n",
        "                    val_losses.append(val_loss.item())\n",
        "                \n",
        "                net.train() # reset to train mode after iterationg through validation data\n",
        "                \n",
        "                print(\"Epoch: {}/{}...\".format(e+1, epochs),\n",
        "                      \"Step: {}...\".format(counter),\n",
        "                      \"Loss: {:.4f}...\".format(loss.item()),\n",
        "                      \"Val Loss: {:.4f}\".format(np.mean(val_losses)))"
      ],
      "execution_count": 0,
      "outputs": []
    },
    {
      "cell_type": "markdown",
      "metadata": {
        "id": "7Ve0XaqnxafY",
        "colab_type": "text"
      },
      "source": [
        "## Instantiating the model\n",
        "\n",
        "Now we can actually train the network. First we'll create the network itself, with some given hyperparameters. Then, define the mini-batches sizes, and start training!"
      ]
    },
    {
      "cell_type": "code",
      "metadata": {
        "id": "7SIJDv30xafa",
        "colab_type": "code",
        "colab": {
          "base_uri": "https://localhost:8080/",
          "height": 101
        },
        "outputId": "a7e24f95-9971-4aea-80de-0a0d977bcd54"
      },
      "source": [
        "## TODO: set your model hyperparameters\n",
        "# define and print the net\n",
        "n_hidden=512\n",
        "n_layers=3\n",
        "\n",
        "net = CharRNN(chars, n_hidden, n_layers)\n",
        "print(net)"
      ],
      "execution_count": 23,
      "outputs": [
        {
          "output_type": "stream",
          "text": [
            "CharRNN(\n",
            "  (lstm): LSTM(83, 512, num_layers=3, batch_first=True, dropout=0.5)\n",
            "  (fc): Linear(in_features=512, out_features=83, bias=True)\n",
            "  (dropout): Dropout(p=0.5, inplace=False)\n",
            ")\n"
          ],
          "name": "stdout"
        }
      ]
    },
    {
      "cell_type": "markdown",
      "metadata": {
        "id": "h6FWAmjUxafh",
        "colab_type": "text"
      },
      "source": [
        "### Set your training hyperparameters!"
      ]
    },
    {
      "cell_type": "code",
      "metadata": {
        "scrolled": true,
        "id": "0GPppOkBxafj",
        "colab_type": "code",
        "colab": {
          "base_uri": "https://localhost:8080/",
          "height": 1000
        },
        "outputId": "21f8460e-5e05-4484-a7ba-17e8e2916dde"
      },
      "source": [
        "batch_size = 128\n",
        "seq_length = 100\n",
        "n_epochs = 20 # start small if you are just testing initial behavior\n",
        "\n",
        "# train the model\n",
        "train(net, encoded, epochs=n_epochs, batch_size=batch_size, seq_length=seq_length, lr=0.001, print_every=10)"
      ],
      "execution_count": 24,
      "outputs": [
        {
          "output_type": "stream",
          "text": [
            "Epoch: 1/20... Step: 10... Loss: 3.2458... Val Loss: 3.1753\n",
            "Epoch: 1/20... Step: 20... Loss: 3.1329... Val Loss: 3.1283\n",
            "Epoch: 1/20... Step: 30... Loss: 3.1373... Val Loss: 3.1217\n",
            "Epoch: 1/20... Step: 40... Loss: 3.1098... Val Loss: 3.1204\n",
            "Epoch: 1/20... Step: 50... Loss: 3.1401... Val Loss: 3.1193\n",
            "Epoch: 1/20... Step: 60... Loss: 3.1190... Val Loss: 3.1178\n",
            "Epoch: 1/20... Step: 70... Loss: 3.1084... Val Loss: 3.1171\n",
            "Epoch: 1/20... Step: 80... Loss: 3.1270... Val Loss: 3.1140\n",
            "Epoch: 1/20... Step: 90... Loss: 3.1299... Val Loss: 3.1153\n",
            "Epoch: 1/20... Step: 100... Loss: 3.1091... Val Loss: 3.1067\n",
            "Epoch: 1/20... Step: 110... Loss: 3.0846... Val Loss: 3.0752\n",
            "Epoch: 1/20... Step: 120... Loss: 2.9797... Val Loss: 2.9724\n",
            "Epoch: 1/20... Step: 130... Loss: 2.9287... Val Loss: 2.8965\n",
            "Epoch: 2/20... Step: 140... Loss: 2.8533... Val Loss: 2.8201\n",
            "Epoch: 2/20... Step: 150... Loss: 2.7871... Val Loss: 2.7620\n",
            "Epoch: 2/20... Step: 160... Loss: 2.7071... Val Loss: 2.6996\n",
            "Epoch: 2/20... Step: 170... Loss: 2.6201... Val Loss: 2.6211\n",
            "Epoch: 2/20... Step: 180... Loss: 2.5498... Val Loss: 2.5313\n",
            "Epoch: 2/20... Step: 190... Loss: 2.4610... Val Loss: 2.4472\n",
            "Epoch: 2/20... Step: 200... Loss: 2.4301... Val Loss: 2.3905\n",
            "Epoch: 2/20... Step: 210... Loss: 2.3785... Val Loss: 2.3504\n",
            "Epoch: 2/20... Step: 220... Loss: 2.3358... Val Loss: 2.3172\n",
            "Epoch: 2/20... Step: 230... Loss: 2.3217... Val Loss: 2.2885\n",
            "Epoch: 2/20... Step: 240... Loss: 2.3062... Val Loss: 2.2577\n",
            "Epoch: 2/20... Step: 250... Loss: 2.2348... Val Loss: 2.2357\n",
            "Epoch: 2/20... Step: 260... Loss: 2.2023... Val Loss: 2.2087\n",
            "Epoch: 2/20... Step: 270... Loss: 2.2054... Val Loss: 2.1807\n",
            "Epoch: 3/20... Step: 280... Loss: 2.2023... Val Loss: 2.1555\n",
            "Epoch: 3/20... Step: 290... Loss: 2.1700... Val Loss: 2.1285\n",
            "Epoch: 3/20... Step: 300... Loss: 2.1595... Val Loss: 2.1106\n",
            "Epoch: 3/20... Step: 310... Loss: 2.1326... Val Loss: 2.0880\n",
            "Epoch: 3/20... Step: 320... Loss: 2.0902... Val Loss: 2.0639\n",
            "Epoch: 3/20... Step: 330... Loss: 2.0532... Val Loss: 2.0451\n",
            "Epoch: 3/20... Step: 340... Loss: 2.0818... Val Loss: 2.0248\n",
            "Epoch: 3/20... Step: 350... Loss: 2.0593... Val Loss: 2.0058\n",
            "Epoch: 3/20... Step: 360... Loss: 1.9967... Val Loss: 1.9836\n",
            "Epoch: 3/20... Step: 370... Loss: 2.0212... Val Loss: 1.9670\n",
            "Epoch: 3/20... Step: 380... Loss: 2.0005... Val Loss: 1.9504\n",
            "Epoch: 3/20... Step: 390... Loss: 1.9715... Val Loss: 1.9341\n",
            "Epoch: 3/20... Step: 400... Loss: 1.9265... Val Loss: 1.9204\n",
            "Epoch: 3/20... Step: 410... Loss: 1.9516... Val Loss: 1.9050\n",
            "Epoch: 4/20... Step: 420... Loss: 1.9350... Val Loss: 1.8873\n",
            "Epoch: 4/20... Step: 430... Loss: 1.9232... Val Loss: 1.8771\n",
            "Epoch: 4/20... Step: 440... Loss: 1.9102... Val Loss: 1.8603\n",
            "Epoch: 4/20... Step: 450... Loss: 1.8501... Val Loss: 1.8457\n",
            "Epoch: 4/20... Step: 460... Loss: 1.8277... Val Loss: 1.8322\n",
            "Epoch: 4/20... Step: 470... Loss: 1.8651... Val Loss: 1.8192\n",
            "Epoch: 4/20... Step: 480... Loss: 1.8436... Val Loss: 1.8128\n",
            "Epoch: 4/20... Step: 490... Loss: 1.8506... Val Loss: 1.7968\n",
            "Epoch: 4/20... Step: 500... Loss: 1.8562... Val Loss: 1.7869\n",
            "Epoch: 4/20... Step: 510... Loss: 1.8192... Val Loss: 1.7765\n",
            "Epoch: 4/20... Step: 520... Loss: 1.8226... Val Loss: 1.7678\n",
            "Epoch: 4/20... Step: 530... Loss: 1.7934... Val Loss: 1.7571\n",
            "Epoch: 4/20... Step: 540... Loss: 1.7590... Val Loss: 1.7476\n",
            "Epoch: 4/20... Step: 550... Loss: 1.8011... Val Loss: 1.7388\n",
            "Epoch: 5/20... Step: 560... Loss: 1.7713... Val Loss: 1.7290\n",
            "Epoch: 5/20... Step: 570... Loss: 1.7511... Val Loss: 1.7213\n",
            "Epoch: 5/20... Step: 580... Loss: 1.7270... Val Loss: 1.7097\n",
            "Epoch: 5/20... Step: 590... Loss: 1.7345... Val Loss: 1.7000\n",
            "Epoch: 5/20... Step: 600... Loss: 1.7231... Val Loss: 1.6920\n",
            "Epoch: 5/20... Step: 610... Loss: 1.7014... Val Loss: 1.6837\n",
            "Epoch: 5/20... Step: 620... Loss: 1.7082... Val Loss: 1.6774\n",
            "Epoch: 5/20... Step: 630... Loss: 1.7260... Val Loss: 1.6690\n",
            "Epoch: 5/20... Step: 640... Loss: 1.6840... Val Loss: 1.6640\n",
            "Epoch: 5/20... Step: 650... Loss: 1.6892... Val Loss: 1.6548\n",
            "Epoch: 5/20... Step: 660... Loss: 1.6705... Val Loss: 1.6476\n",
            "Epoch: 5/20... Step: 670... Loss: 1.6844... Val Loss: 1.6415\n",
            "Epoch: 5/20... Step: 680... Loss: 1.6888... Val Loss: 1.6343\n",
            "Epoch: 5/20... Step: 690... Loss: 1.6601... Val Loss: 1.6325\n",
            "Epoch: 6/20... Step: 700... Loss: 1.6513... Val Loss: 1.6197\n",
            "Epoch: 6/20... Step: 710... Loss: 1.6419... Val Loss: 1.6140\n",
            "Epoch: 6/20... Step: 720... Loss: 1.6373... Val Loss: 1.6058\n",
            "Epoch: 6/20... Step: 730... Loss: 1.6463... Val Loss: 1.5978\n",
            "Epoch: 6/20... Step: 740... Loss: 1.6091... Val Loss: 1.5980\n",
            "Epoch: 6/20... Step: 750... Loss: 1.5922... Val Loss: 1.5897\n",
            "Epoch: 6/20... Step: 760... Loss: 1.6308... Val Loss: 1.5878\n",
            "Epoch: 6/20... Step: 770... Loss: 1.6080... Val Loss: 1.5815\n",
            "Epoch: 6/20... Step: 780... Loss: 1.5916... Val Loss: 1.5724\n",
            "Epoch: 6/20... Step: 790... Loss: 1.5774... Val Loss: 1.5729\n",
            "Epoch: 6/20... Step: 800... Loss: 1.5982... Val Loss: 1.5634\n",
            "Epoch: 6/20... Step: 810... Loss: 1.5818... Val Loss: 1.5591\n",
            "Epoch: 6/20... Step: 820... Loss: 1.5513... Val Loss: 1.5539\n",
            "Epoch: 6/20... Step: 830... Loss: 1.5754... Val Loss: 1.5534\n",
            "Epoch: 7/20... Step: 840... Loss: 1.5479... Val Loss: 1.5508\n",
            "Epoch: 7/20... Step: 850... Loss: 1.5655... Val Loss: 1.5399\n",
            "Epoch: 7/20... Step: 860... Loss: 1.5374... Val Loss: 1.5366\n",
            "Epoch: 7/20... Step: 870... Loss: 1.5584... Val Loss: 1.5292\n",
            "Epoch: 7/20... Step: 880... Loss: 1.5591... Val Loss: 1.5290\n",
            "Epoch: 7/20... Step: 890... Loss: 1.5507... Val Loss: 1.5222\n",
            "Epoch: 7/20... Step: 900... Loss: 1.5464... Val Loss: 1.5233\n",
            "Epoch: 7/20... Step: 910... Loss: 1.5036... Val Loss: 1.5156\n",
            "Epoch: 7/20... Step: 920... Loss: 1.5282... Val Loss: 1.5146\n",
            "Epoch: 7/20... Step: 930... Loss: 1.5208... Val Loss: 1.5129\n",
            "Epoch: 7/20... Step: 940... Loss: 1.5181... Val Loss: 1.5085\n",
            "Epoch: 7/20... Step: 950... Loss: 1.5287... Val Loss: 1.5073\n",
            "Epoch: 7/20... Step: 960... Loss: 1.5277... Val Loss: 1.4995\n",
            "Epoch: 7/20... Step: 970... Loss: 1.5334... Val Loss: 1.5012\n",
            "Epoch: 8/20... Step: 980... Loss: 1.5115... Val Loss: 1.4961\n",
            "Epoch: 8/20... Step: 990... Loss: 1.5031... Val Loss: 1.4877\n",
            "Epoch: 8/20... Step: 1000... Loss: 1.5066... Val Loss: 1.4872\n",
            "Epoch: 8/20... Step: 1010... Loss: 1.5303... Val Loss: 1.4810\n",
            "Epoch: 8/20... Step: 1020... Loss: 1.5150... Val Loss: 1.4799\n",
            "Epoch: 8/20... Step: 1030... Loss: 1.4870... Val Loss: 1.4757\n",
            "Epoch: 8/20... Step: 1040... Loss: 1.4918... Val Loss: 1.4747\n",
            "Epoch: 8/20... Step: 1050... Loss: 1.4699... Val Loss: 1.4688\n",
            "Epoch: 8/20... Step: 1060... Loss: 1.4918... Val Loss: 1.4684\n",
            "Epoch: 8/20... Step: 1070... Loss: 1.4871... Val Loss: 1.4675\n",
            "Epoch: 8/20... Step: 1080... Loss: 1.4738... Val Loss: 1.4629\n",
            "Epoch: 8/20... Step: 1090... Loss: 1.4725... Val Loss: 1.4639\n",
            "Epoch: 8/20... Step: 1100... Loss: 1.4640... Val Loss: 1.4585\n",
            "Epoch: 8/20... Step: 1110... Loss: 1.4579... Val Loss: 1.4573\n",
            "Epoch: 9/20... Step: 1120... Loss: 1.4717... Val Loss: 1.4620\n",
            "Epoch: 9/20... Step: 1130... Loss: 1.4701... Val Loss: 1.4529\n",
            "Epoch: 9/20... Step: 1140... Loss: 1.4751... Val Loss: 1.4486\n",
            "Epoch: 9/20... Step: 1150... Loss: 1.4836... Val Loss: 1.4458\n",
            "Epoch: 9/20... Step: 1160... Loss: 1.4419... Val Loss: 1.4454\n",
            "Epoch: 9/20... Step: 1170... Loss: 1.4560... Val Loss: 1.4420\n",
            "Epoch: 9/20... Step: 1180... Loss: 1.4423... Val Loss: 1.4419\n",
            "Epoch: 9/20... Step: 1190... Loss: 1.4817... Val Loss: 1.4381\n",
            "Epoch: 9/20... Step: 1200... Loss: 1.4265... Val Loss: 1.4366\n",
            "Epoch: 9/20... Step: 1210... Loss: 1.4206... Val Loss: 1.4351\n",
            "Epoch: 9/20... Step: 1220... Loss: 1.4425... Val Loss: 1.4352\n",
            "Epoch: 9/20... Step: 1230... Loss: 1.4109... Val Loss: 1.4327\n",
            "Epoch: 9/20... Step: 1240... Loss: 1.4260... Val Loss: 1.4296\n",
            "Epoch: 9/20... Step: 1250... Loss: 1.4469... Val Loss: 1.4295\n",
            "Epoch: 10/20... Step: 1260... Loss: 1.4402... Val Loss: 1.4287\n",
            "Epoch: 10/20... Step: 1270... Loss: 1.4294... Val Loss: 1.4271\n",
            "Epoch: 10/20... Step: 1280... Loss: 1.4509... Val Loss: 1.4218\n",
            "Epoch: 10/20... Step: 1290... Loss: 1.4384... Val Loss: 1.4190\n",
            "Epoch: 10/20... Step: 1300... Loss: 1.4181... Val Loss: 1.4189\n",
            "Epoch: 10/20... Step: 1310... Loss: 1.4249... Val Loss: 1.4180\n",
            "Epoch: 10/20... Step: 1320... Loss: 1.4069... Val Loss: 1.4164\n",
            "Epoch: 10/20... Step: 1330... Loss: 1.4064... Val Loss: 1.4171\n",
            "Epoch: 10/20... Step: 1340... Loss: 1.3968... Val Loss: 1.4123\n",
            "Epoch: 10/20... Step: 1350... Loss: 1.3839... Val Loss: 1.4133\n",
            "Epoch: 10/20... Step: 1360... Loss: 1.3963... Val Loss: 1.4119\n",
            "Epoch: 10/20... Step: 1370... Loss: 1.3784... Val Loss: 1.4093\n",
            "Epoch: 10/20... Step: 1380... Loss: 1.4193... Val Loss: 1.4087\n",
            "Epoch: 10/20... Step: 1390... Loss: 1.3794... Val Loss: 1.4046\n",
            "Epoch: 11/20... Step: 1400... Loss: 1.4260... Val Loss: 1.4015\n",
            "Epoch: 11/20... Step: 1410... Loss: 1.4357... Val Loss: 1.4058\n",
            "Epoch: 11/20... Step: 1420... Loss: 1.4361... Val Loss: 1.3971\n",
            "Epoch: 11/20... Step: 1430... Loss: 1.4063... Val Loss: 1.3991\n",
            "Epoch: 11/20... Step: 1440... Loss: 1.4180... Val Loss: 1.3961\n",
            "Epoch: 11/20... Step: 1450... Loss: 1.3586... Val Loss: 1.3987\n",
            "Epoch: 11/20... Step: 1460... Loss: 1.3690... Val Loss: 1.3958\n",
            "Epoch: 11/20... Step: 1470... Loss: 1.3738... Val Loss: 1.3944\n",
            "Epoch: 11/20... Step: 1480... Loss: 1.3960... Val Loss: 1.3944\n",
            "Epoch: 11/20... Step: 1490... Loss: 1.3785... Val Loss: 1.3944\n",
            "Epoch: 11/20... Step: 1500... Loss: 1.3731... Val Loss: 1.3924\n",
            "Epoch: 11/20... Step: 1510... Loss: 1.3558... Val Loss: 1.3914\n",
            "Epoch: 11/20... Step: 1520... Loss: 1.3818... Val Loss: 1.3887\n",
            "Epoch: 12/20... Step: 1530... Loss: 1.4565... Val Loss: 1.3887\n",
            "Epoch: 12/20... Step: 1540... Loss: 1.4038... Val Loss: 1.3871\n",
            "Epoch: 12/20... Step: 1550... Loss: 1.3958... Val Loss: 1.3854\n",
            "Epoch: 12/20... Step: 1560... Loss: 1.4077... Val Loss: 1.3792\n",
            "Epoch: 12/20... Step: 1570... Loss: 1.3603... Val Loss: 1.3855\n",
            "Epoch: 12/20... Step: 1580... Loss: 1.3410... Val Loss: 1.3816\n",
            "Epoch: 12/20... Step: 1590... Loss: 1.3346... Val Loss: 1.3797\n",
            "Epoch: 12/20... Step: 1600... Loss: 1.3558... Val Loss: 1.3804\n",
            "Epoch: 12/20... Step: 1610... Loss: 1.3503... Val Loss: 1.3805\n",
            "Epoch: 12/20... Step: 1620... Loss: 1.3568... Val Loss: 1.3776\n",
            "Epoch: 12/20... Step: 1630... Loss: 1.3798... Val Loss: 1.3800\n",
            "Epoch: 12/20... Step: 1640... Loss: 1.3633... Val Loss: 1.3807\n",
            "Epoch: 12/20... Step: 1650... Loss: 1.3360... Val Loss: 1.3770\n",
            "Epoch: 12/20... Step: 1660... Loss: 1.3852... Val Loss: 1.3780\n",
            "Epoch: 13/20... Step: 1670... Loss: 1.3579... Val Loss: 1.3745\n",
            "Epoch: 13/20... Step: 1680... Loss: 1.3522... Val Loss: 1.3731\n",
            "Epoch: 13/20... Step: 1690... Loss: 1.3469... Val Loss: 1.3733\n",
            "Epoch: 13/20... Step: 1700... Loss: 1.3503... Val Loss: 1.3668\n",
            "Epoch: 13/20... Step: 1710... Loss: 1.3315... Val Loss: 1.3700\n",
            "Epoch: 13/20... Step: 1720... Loss: 1.3282... Val Loss: 1.3672\n",
            "Epoch: 13/20... Step: 1730... Loss: 1.3696... Val Loss: 1.3707\n",
            "Epoch: 13/20... Step: 1740... Loss: 1.3405... Val Loss: 1.3685\n",
            "Epoch: 13/20... Step: 1750... Loss: 1.3210... Val Loss: 1.3669\n",
            "Epoch: 13/20... Step: 1760... Loss: 1.3364... Val Loss: 1.3665\n",
            "Epoch: 13/20... Step: 1770... Loss: 1.3601... Val Loss: 1.3659\n",
            "Epoch: 13/20... Step: 1780... Loss: 1.3249... Val Loss: 1.3659\n",
            "Epoch: 13/20... Step: 1790... Loss: 1.3267... Val Loss: 1.3649\n",
            "Epoch: 13/20... Step: 1800... Loss: 1.3418... Val Loss: 1.3644\n",
            "Epoch: 14/20... Step: 1810... Loss: 1.3564... Val Loss: 1.3680\n",
            "Epoch: 14/20... Step: 1820... Loss: 1.3227... Val Loss: 1.3624\n",
            "Epoch: 14/20... Step: 1830... Loss: 1.3476... Val Loss: 1.3597\n",
            "Epoch: 14/20... Step: 1840... Loss: 1.3003... Val Loss: 1.3565\n",
            "Epoch: 14/20... Step: 1850... Loss: 1.2831... Val Loss: 1.3578\n",
            "Epoch: 14/20... Step: 1860... Loss: 1.3300... Val Loss: 1.3598\n",
            "Epoch: 14/20... Step: 1870... Loss: 1.3465... Val Loss: 1.3567\n",
            "Epoch: 14/20... Step: 1880... Loss: 1.3376... Val Loss: 1.3560\n",
            "Epoch: 14/20... Step: 1890... Loss: 1.3575... Val Loss: 1.3569\n",
            "Epoch: 14/20... Step: 1900... Loss: 1.3259... Val Loss: 1.3562\n",
            "Epoch: 14/20... Step: 1910... Loss: 1.3318... Val Loss: 1.3552\n",
            "Epoch: 14/20... Step: 1920... Loss: 1.3297... Val Loss: 1.3543\n",
            "Epoch: 14/20... Step: 1930... Loss: 1.2888... Val Loss: 1.3549\n",
            "Epoch: 14/20... Step: 1940... Loss: 1.3495... Val Loss: 1.3541\n",
            "Epoch: 15/20... Step: 1950... Loss: 1.3292... Val Loss: 1.3587\n",
            "Epoch: 15/20... Step: 1960... Loss: 1.3336... Val Loss: 1.3556\n",
            "Epoch: 15/20... Step: 1970... Loss: 1.3072... Val Loss: 1.3538\n",
            "Epoch: 15/20... Step: 1980... Loss: 1.3113... Val Loss: 1.3503\n",
            "Epoch: 15/20... Step: 1990... Loss: 1.3077... Val Loss: 1.3509\n",
            "Epoch: 15/20... Step: 2000... Loss: 1.3045... Val Loss: 1.3508\n",
            "Epoch: 15/20... Step: 2010... Loss: 1.3100... Val Loss: 1.3486\n",
            "Epoch: 15/20... Step: 2020... Loss: 1.3288... Val Loss: 1.3484\n",
            "Epoch: 15/20... Step: 2030... Loss: 1.2987... Val Loss: 1.3510\n",
            "Epoch: 15/20... Step: 2040... Loss: 1.3221... Val Loss: 1.3483\n",
            "Epoch: 15/20... Step: 2050... Loss: 1.3038... Val Loss: 1.3486\n",
            "Epoch: 15/20... Step: 2060... Loss: 1.3199... Val Loss: 1.3474\n",
            "Epoch: 15/20... Step: 2070... Loss: 1.3288... Val Loss: 1.3465\n",
            "Epoch: 15/20... Step: 2080... Loss: 1.3194... Val Loss: 1.3457\n",
            "Epoch: 16/20... Step: 2090... Loss: 1.3264... Val Loss: 1.3485\n",
            "Epoch: 16/20... Step: 2100... Loss: 1.3142... Val Loss: 1.3451\n",
            "Epoch: 16/20... Step: 2110... Loss: 1.2953... Val Loss: 1.3431\n",
            "Epoch: 16/20... Step: 2120... Loss: 1.3210... Val Loss: 1.3431\n",
            "Epoch: 16/20... Step: 2130... Loss: 1.2860... Val Loss: 1.3419\n",
            "Epoch: 16/20... Step: 2140... Loss: 1.3041... Val Loss: 1.3427\n",
            "Epoch: 16/20... Step: 2150... Loss: 1.3162... Val Loss: 1.3373\n",
            "Epoch: 16/20... Step: 2160... Loss: 1.3081... Val Loss: 1.3392\n",
            "Epoch: 16/20... Step: 2170... Loss: 1.3050... Val Loss: 1.3435\n",
            "Epoch: 16/20... Step: 2180... Loss: 1.2878... Val Loss: 1.3411\n",
            "Epoch: 16/20... Step: 2190... Loss: 1.3096... Val Loss: 1.3391\n",
            "Epoch: 16/20... Step: 2200... Loss: 1.2824... Val Loss: 1.3387\n",
            "Epoch: 16/20... Step: 2210... Loss: 1.2604... Val Loss: 1.3378\n",
            "Epoch: 16/20... Step: 2220... Loss: 1.3041... Val Loss: 1.3388\n",
            "Epoch: 17/20... Step: 2230... Loss: 1.2952... Val Loss: 1.3432\n",
            "Epoch: 17/20... Step: 2240... Loss: 1.2921... Val Loss: 1.3376\n",
            "Epoch: 17/20... Step: 2250... Loss: 1.2760... Val Loss: 1.3358\n",
            "Epoch: 17/20... Step: 2260... Loss: 1.2929... Val Loss: 1.3351\n",
            "Epoch: 17/20... Step: 2270... Loss: 1.2978... Val Loss: 1.3364\n",
            "Epoch: 17/20... Step: 2280... Loss: 1.2874... Val Loss: 1.3347\n",
            "Epoch: 17/20... Step: 2290... Loss: 1.3002... Val Loss: 1.3330\n",
            "Epoch: 17/20... Step: 2300... Loss: 1.2617... Val Loss: 1.3346\n",
            "Epoch: 17/20... Step: 2310... Loss: 1.2939... Val Loss: 1.3356\n",
            "Epoch: 17/20... Step: 2320... Loss: 1.2784... Val Loss: 1.3332\n",
            "Epoch: 17/20... Step: 2330... Loss: 1.2720... Val Loss: 1.3349\n",
            "Epoch: 17/20... Step: 2340... Loss: 1.3027... Val Loss: 1.3345\n",
            "Epoch: 17/20... Step: 2350... Loss: 1.2996... Val Loss: 1.3357\n",
            "Epoch: 17/20... Step: 2360... Loss: 1.3081... Val Loss: 1.3317\n",
            "Epoch: 18/20... Step: 2370... Loss: 1.2775... Val Loss: 1.3308\n",
            "Epoch: 18/20... Step: 2380... Loss: 1.2769... Val Loss: 1.3296\n",
            "Epoch: 18/20... Step: 2390... Loss: 1.2839... Val Loss: 1.3312\n",
            "Epoch: 18/20... Step: 2400... Loss: 1.3025... Val Loss: 1.3289\n",
            "Epoch: 18/20... Step: 2410... Loss: 1.2960... Val Loss: 1.3296\n",
            "Epoch: 18/20... Step: 2420... Loss: 1.2764... Val Loss: 1.3286\n",
            "Epoch: 18/20... Step: 2430... Loss: 1.2882... Val Loss: 1.3298\n",
            "Epoch: 18/20... Step: 2440... Loss: 1.2737... Val Loss: 1.3282\n",
            "Epoch: 18/20... Step: 2450... Loss: 1.2672... Val Loss: 1.3306\n",
            "Epoch: 18/20... Step: 2460... Loss: 1.2811... Val Loss: 1.3297\n",
            "Epoch: 18/20... Step: 2470... Loss: 1.2724... Val Loss: 1.3303\n",
            "Epoch: 18/20... Step: 2480... Loss: 1.2671... Val Loss: 1.3304\n",
            "Epoch: 18/20... Step: 2490... Loss: 1.2595... Val Loss: 1.3279\n",
            "Epoch: 18/20... Step: 2500... Loss: 1.2669... Val Loss: 1.3277\n",
            "Epoch: 19/20... Step: 2510... Loss: 1.2674... Val Loss: 1.3269\n",
            "Epoch: 19/20... Step: 2520... Loss: 1.2864... Val Loss: 1.3259\n",
            "Epoch: 19/20... Step: 2530... Loss: 1.2815... Val Loss: 1.3257\n",
            "Epoch: 19/20... Step: 2540... Loss: 1.2977... Val Loss: 1.3246\n",
            "Epoch: 19/20... Step: 2550... Loss: 1.2670... Val Loss: 1.3236\n",
            "Epoch: 19/20... Step: 2560... Loss: 1.2737... Val Loss: 1.3217\n",
            "Epoch: 19/20... Step: 2570... Loss: 1.2588... Val Loss: 1.3237\n",
            "Epoch: 19/20... Step: 2580... Loss: 1.2994... Val Loss: 1.3228\n",
            "Epoch: 19/20... Step: 2590... Loss: 1.2643... Val Loss: 1.3247\n",
            "Epoch: 19/20... Step: 2600... Loss: 1.2554... Val Loss: 1.3244\n",
            "Epoch: 19/20... Step: 2610... Loss: 1.2620... Val Loss: 1.3245\n",
            "Epoch: 19/20... Step: 2620... Loss: 1.2457... Val Loss: 1.3263\n",
            "Epoch: 19/20... Step: 2630... Loss: 1.2520... Val Loss: 1.3245\n",
            "Epoch: 19/20... Step: 2640... Loss: 1.2762... Val Loss: 1.3213\n",
            "Epoch: 20/20... Step: 2650... Loss: 1.2676... Val Loss: 1.3214\n",
            "Epoch: 20/20... Step: 2660... Loss: 1.2676... Val Loss: 1.3227\n",
            "Epoch: 20/20... Step: 2670... Loss: 1.2850... Val Loss: 1.3199\n",
            "Epoch: 20/20... Step: 2680... Loss: 1.2728... Val Loss: 1.3156\n",
            "Epoch: 20/20... Step: 2690... Loss: 1.2530... Val Loss: 1.3172\n",
            "Epoch: 20/20... Step: 2700... Loss: 1.2644... Val Loss: 1.3176\n",
            "Epoch: 20/20... Step: 2710... Loss: 1.2359... Val Loss: 1.3183\n",
            "Epoch: 20/20... Step: 2720... Loss: 1.2345... Val Loss: 1.3156\n",
            "Epoch: 20/20... Step: 2730... Loss: 1.2400... Val Loss: 1.3164\n",
            "Epoch: 20/20... Step: 2740... Loss: 1.2315... Val Loss: 1.3186\n",
            "Epoch: 20/20... Step: 2750... Loss: 1.2475... Val Loss: 1.3208\n",
            "Epoch: 20/20... Step: 2760... Loss: 1.2457... Val Loss: 1.3186\n",
            "Epoch: 20/20... Step: 2770... Loss: 1.2639... Val Loss: 1.3209\n",
            "Epoch: 20/20... Step: 2780... Loss: 1.2431... Val Loss: 1.3170\n"
          ],
          "name": "stdout"
        }
      ]
    },
    {
      "cell_type": "markdown",
      "metadata": {
        "id": "uD3mVmRexafq",
        "colab_type": "text"
      },
      "source": [
        "## Getting the best model\n",
        "\n",
        "To set your hyperparameters to get the best performance, you'll want to watch the training and validation losses. If your training loss is much lower than the validation loss, you're overfitting. Increase regularization (more dropout) or use a smaller network. If the training and validation losses are close, you're underfitting so you can increase the size of the network."
      ]
    },
    {
      "cell_type": "markdown",
      "metadata": {
        "id": "ajspZ_ZRxafs",
        "colab_type": "text"
      },
      "source": [
        "## Hyperparameters\n",
        "\n",
        "Here are the hyperparameters for the network.\n",
        "\n",
        "In defining the model:\n",
        "* `n_hidden` - The number of units in the hidden layers.\n",
        "* `n_layers` - Number of hidden LSTM layers to use.\n",
        "\n",
        "We assume that dropout probability and learning rate will be kept at the default, in this example.\n",
        "\n",
        "And in training:\n",
        "* `batch_size` - Number of sequences running through the network in one pass.\n",
        "* `seq_length` - Number of characters in the sequence the network is trained on. Larger is better typically, the network will learn more long range dependencies. But it takes longer to train. 100 is typically a good number here.\n",
        "* `lr` - Learning rate for training\n",
        "\n",
        "Here's some good advice from Andrej Karpathy on training the network. I'm going to copy it in here for your benefit, but also link to [where it originally came from](https://github.com/karpathy/char-rnn#tips-and-tricks).\n",
        "\n",
        "> ## Tips and Tricks\n",
        "\n",
        ">### Monitoring Validation Loss vs. Training Loss\n",
        ">If you're somewhat new to Machine Learning or Neural Networks it can take a bit of expertise to get good models. The most important quantity to keep track of is the difference between your training loss (printed during training) and the validation loss (printed once in a while when the RNN is run on the validation data (by default every 1000 iterations)). In particular:\n",
        "\n",
        "> - If your training loss is much lower than validation loss then this means the network might be **overfitting**. Solutions to this are to decrease your network size, or to increase dropout. For example you could try dropout of 0.5 and so on.\n",
        "> - If your training/validation loss are about equal then your model is **underfitting**. Increase the size of your model (either number of layers or the raw number of neurons per layer)\n",
        "\n",
        "> ### Approximate number of parameters\n",
        "\n",
        "> The two most important parameters that control the model are `n_hidden` and `n_layers`. I would advise that you always use `n_layers` of either 2/3. The `n_hidden` can be adjusted based on how much data you have. The two important quantities to keep track of here are:\n",
        "\n",
        "> - The number of parameters in your model. This is printed when you start training.\n",
        "> - The size of your dataset. 1MB file is approximately 1 million characters.\n",
        "\n",
        ">These two should be about the same order of magnitude. It's a little tricky to tell. Here are some examples:\n",
        "\n",
        "> - I have a 100MB dataset and I'm using the default parameter settings (which currently print 150K parameters). My data size is significantly larger (100 mil >> 0.15 mil), so I expect to heavily underfit. I am thinking I can comfortably afford to make `n_hidden` larger.\n",
        "> - I have a 10MB dataset and running a 10 million parameter model. I'm slightly nervous and I'm carefully monitoring my validation loss. If it's larger than my training loss then I may want to try to increase dropout a bit and see if that helps the validation loss.\n",
        "\n",
        "> ### Best models strategy\n",
        "\n",
        ">The winning strategy to obtaining very good models (if you have the compute time) is to always err on making the network larger (as large as you're willing to wait for it to compute) and then try different dropout values (between 0,1). Whatever model has the best validation performance (the loss, written in the checkpoint filename, low is good) is the one you should use in the end.\n",
        "\n",
        ">It is very common in deep learning to run many different models with many different hyperparameter settings, and in the end take whatever checkpoint gave the best validation performance.\n",
        "\n",
        ">By the way, the size of your training and validation splits are also parameters. Make sure you have a decent amount of data in your validation set or otherwise the validation performance will be noisy and not very informative."
      ]
    },
    {
      "cell_type": "markdown",
      "metadata": {
        "id": "kL_UVRDxxaft",
        "colab_type": "text"
      },
      "source": [
        "## Checkpoint\n",
        "\n",
        "After training, we'll save the model so we can load it again later if we need too. Here I'm saving the parameters needed to create the same architecture, the hidden layer hyperparameters and the text characters."
      ]
    },
    {
      "cell_type": "code",
      "metadata": {
        "id": "PMho9sZbxafw",
        "colab_type": "code",
        "colab": {}
      },
      "source": [
        "# change the name, for saving multiple files\n",
        "model_name = 'rnn_20_epoch.net'\n",
        "\n",
        "checkpoint = {'n_hidden': net.n_hidden,\n",
        "              'n_layers': net.n_layers,\n",
        "              'state_dict': net.state_dict(),\n",
        "              'tokens': net.chars}\n",
        "\n",
        "with open(model_name, 'wb') as f:\n",
        "    torch.save(checkpoint, f)"
      ],
      "execution_count": 0,
      "outputs": []
    },
    {
      "cell_type": "markdown",
      "metadata": {
        "id": "R-odiOqmxaf2",
        "colab_type": "text"
      },
      "source": [
        "---\n",
        "## Making Predictions\n",
        "\n",
        "Now that the model is trained, we'll want to sample from it and make predictions about next characters! To sample, we pass in a character and have the network predict the next character. Then we take that character, pass it back in, and get another predicted character. Just keep doing this and you'll generate a bunch of text!\n",
        "\n",
        "### A note on the `predict`  function\n",
        "\n",
        "The output of our RNN is from a fully-connected layer and it outputs a **distribution of next-character scores**.\n",
        "\n",
        "> To actually get the next character, we apply a softmax function, which gives us a *probability* distribution that we can then sample to predict the next character.\n",
        "\n",
        "### Top K sampling\n",
        "\n",
        "Our predictions come from a categorical probability distribution over all the possible characters. We can make the sample text and make it more reasonable to handle (with less variables) by only considering some $K$ most probable characters. This will prevent the network from giving us completely absurd characters while allowing it to introduce some noise and randomness into the sampled text. Read more about [topk, here](https://pytorch.org/docs/stable/torch.html#torch.topk).\n"
      ]
    },
    {
      "cell_type": "code",
      "metadata": {
        "id": "aNvlP00Vxaf3",
        "colab_type": "code",
        "colab": {}
      },
      "source": [
        "def predict(net, char, h=None, top_k=None):\n",
        "        ''' Given a character, predict the next character.\n",
        "            Returns the predicted character and the hidden state.\n",
        "        '''\n",
        "        \n",
        "        # tensor inputs\n",
        "        x = np.array([[net.char2int[char]]])\n",
        "        x = one_hot_encode(x, len(net.chars))\n",
        "        inputs = torch.from_numpy(x)\n",
        "        \n",
        "        if(train_on_gpu):\n",
        "            inputs = inputs.cuda()\n",
        "        \n",
        "        # detach hidden state from history\n",
        "        h = tuple([each.data for each in h])\n",
        "        # get the output of the model\n",
        "        out, h = net(inputs, h)\n",
        "\n",
        "        # get the character probabilities\n",
        "        p = F.softmax(out, dim=1).data\n",
        "        if(train_on_gpu):\n",
        "            p = p.cpu() # move to cpu\n",
        "        \n",
        "        # get top characters\n",
        "        if top_k is None:\n",
        "            top_ch = np.arange(len(net.chars))\n",
        "        else:\n",
        "            p, top_ch = p.topk(top_k)\n",
        "            top_ch = top_ch.numpy().squeeze()\n",
        "        \n",
        "        # select the likely next character with some element of randomness\n",
        "        p = p.numpy().squeeze()\n",
        "        char = np.random.choice(top_ch, p=p/p.sum())\n",
        "        \n",
        "        # return the encoded value of the predicted char and the hidden state\n",
        "        return net.int2char[char], h"
      ],
      "execution_count": 0,
      "outputs": []
    },
    {
      "cell_type": "markdown",
      "metadata": {
        "id": "JgvyIciaxaf8",
        "colab_type": "text"
      },
      "source": [
        "### Priming and generating text \n",
        "\n",
        "Typically you'll want to prime the network so you can build up a hidden state. Otherwise the network will start out generating characters at random. In general the first bunch of characters will be a little rough since it hasn't built up a long history of characters to predict from."
      ]
    },
    {
      "cell_type": "code",
      "metadata": {
        "id": "gBL6LvVoxaf9",
        "colab_type": "code",
        "colab": {}
      },
      "source": [
        "def sample(net, size, prime='The', top_k=None):\n",
        "        \n",
        "    if(train_on_gpu):\n",
        "        net.cuda()\n",
        "    else:\n",
        "        net.cpu()\n",
        "    \n",
        "    net.eval() # eval mode\n",
        "    \n",
        "    # First off, run through the prime characters\n",
        "    chars = [ch for ch in prime]\n",
        "    h = net.init_hidden(1)\n",
        "    for ch in prime:\n",
        "        char, h = predict(net, ch, h, top_k=top_k)\n",
        "\n",
        "    chars.append(char)\n",
        "    \n",
        "    # Now pass in the previous character and get a new one\n",
        "    for ii in range(size):\n",
        "        char, h = predict(net, chars[-1], h, top_k=top_k)\n",
        "        chars.append(char)\n",
        "\n",
        "    return ''.join(chars)"
      ],
      "execution_count": 0,
      "outputs": []
    },
    {
      "cell_type": "code",
      "metadata": {
        "id": "JaXcWrQExagD",
        "colab_type": "code",
        "colab": {
          "base_uri": "https://localhost:8080/",
          "height": 403
        },
        "outputId": "d8875b2c-e7c9-44d0-8dc2-83bb4b5a3036"
      },
      "source": [
        "print(sample(net, 1000, prime='Anna', top_k=5))"
      ],
      "execution_count": 28,
      "outputs": [
        {
          "output_type": "stream",
          "text": [
            "Anna in spite of him\n",
            "to get all sides, he were thinking of his\n",
            "sister's friends, and\n",
            "that she had been departed at her, and alone\n",
            "of the millic, and he was still taking to the sight of her side. He sent ta supper and half to go and wished to be, and what tried to be at them in the same and this time to say in\n",
            "the front\n",
            "and answer on the same, and\n",
            "he followed, he felt a meeting of a subject, and that he had\n",
            "the state of the matter. The manner was still\n",
            "the strong of\n",
            "the conversation\n",
            "that had not been tortured him as he would not. But the secret moness and so to the same as the contrary had already felt a gentleman\n",
            "for his brother's force on the\n",
            "muddal.\n",
            "\n",
            "\"Is that the same imness he has been to do that to brisk in a crowd.\" She was torkening her face,\n",
            "and he wondered it a body.\n",
            "\n",
            "\"Walke to the\n",
            "secranation.\"\n",
            "\n",
            "\"You care to give,\" said Sviazhsky. \"I am not sending to be an across on the same support. There's so much fell that,\" said Levin. \"I have noticed it a moment who is\n",
            "in that position is now\n"
          ],
          "name": "stdout"
        }
      ]
    },
    {
      "cell_type": "markdown",
      "metadata": {
        "id": "lGEOa2jSxagH",
        "colab_type": "text"
      },
      "source": [
        "## Loading a checkpoint"
      ]
    },
    {
      "cell_type": "code",
      "metadata": {
        "id": "tJlLC2YZxagI",
        "colab_type": "code",
        "colab": {
          "base_uri": "https://localhost:8080/",
          "height": 34
        },
        "outputId": "a14baa0c-8799-4ae4-87ab-f3f1558d27cc"
      },
      "source": [
        "# Here we have loaded in a model that trained over 20 epochs `rnn_20_epoch.net`\n",
        "with open('rnn_20_epoch.net', 'rb') as f:\n",
        "    checkpoint = torch.load(f)\n",
        "    \n",
        "loaded = CharRNN(checkpoint['tokens'], n_hidden=checkpoint['n_hidden'], n_layers=checkpoint['n_layers'])\n",
        "loaded.load_state_dict(checkpoint['state_dict'])"
      ],
      "execution_count": 29,
      "outputs": [
        {
          "output_type": "execute_result",
          "data": {
            "text/plain": [
              "<All keys matched successfully>"
            ]
          },
          "metadata": {
            "tags": []
          },
          "execution_count": 29
        }
      ]
    },
    {
      "cell_type": "code",
      "metadata": {
        "id": "0dj9vbe-xagM",
        "colab_type": "code",
        "colab": {
          "base_uri": "https://localhost:8080/",
          "height": 588
        },
        "outputId": "b53f7497-f6b2-4e97-c66a-16733cbdf23f"
      },
      "source": [
        "# Sample using a loaded model\n",
        "print(sample(loaded, 2000, top_k=5, prime=\"And Levin said\"))"
      ],
      "execution_count": 30,
      "outputs": [
        {
          "output_type": "stream",
          "text": [
            "And Levin said to him, \"I am very dreamed! It was it better.\"\n",
            "\n",
            "And the complicity, that the carriage had to blame thar had been so same as that it was the prince, who how had never ceularly\n",
            "done\n",
            "this standing. And with his feelings was the painful, and he would not tell me that he had always\n",
            "speek to the sound of the power, and all the first minute of his way, as he had something felt only by her, that the\n",
            "parts were\n",
            "thinking and subjuct, and that he did not have another feeling of a people. And he had begun to discorder him at his son. He\n",
            "continually was not to be disagreeable.\n",
            "\n",
            "If she said in the colour of such strong while she had\n",
            "been all the same.\n",
            " Alexey Alexandrovitch said to himself with that talk of his crowd of sevence. They came upon him, settled\n",
            "a bottle, and as though were so possible to stay in the family of sound on his hands to her, as he could not be dull, and had\n",
            "nothing to go and say.\n",
            "\n",
            "\"I have not said,\" said Stepan Arkadyevitch, and with a side stroke out and humiliated beside a smile. \"I can't come along to the\n",
            "station as he have mercy,\" said Vassenka Alexandrovna.\n",
            "\n",
            "\"What a mistake with this fine\n",
            "table!\" he said in a significance were sood as a face what she would hear a foot of taken\n",
            "acquaintances and something; as\n",
            "he was not a sigtly for a smile of tenderness with her. He saw now to her. He\n",
            "was thinking of the peasants with which he was not answered. He called up anyway for the service of the first clerk of the family from the\n",
            "service with standing\n",
            "ang hen, and taking herself with the marshal of the sight on his ball, this attomation that was standing in, the property, and the colonel said to himself\n",
            "all the plough, he had attacuded several terms. And so he was\n",
            "too was not for his while. And he was at how to do it. But as he was not asked him to stall as this wife in seens of the marsh, and set in the conviction. But that she had to see\n",
            "him. All the\n",
            "mother was seeing them.\n",
            "\n",
            "\"There's nothing that I could have seen anyway to say it's the\n",
            "matter to\n",
            "be abroad,\" \n"
          ],
          "name": "stdout"
        }
      ]
    },
    {
      "cell_type": "code",
      "metadata": {
        "id": "V-ptKMSWxagU",
        "colab_type": "code",
        "colab": {}
      },
      "source": [
        ""
      ],
      "execution_count": 0,
      "outputs": []
    }
  ]
}